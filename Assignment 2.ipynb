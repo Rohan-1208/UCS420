{
  "nbformat": 4,
  "nbformat_minor": 0,
  "metadata": {
    "colab": {
      "provenance": []
    },
    "kernelspec": {
      "name": "python3",
      "display_name": "Python 3"
    },
    "language_info": {
      "name": "python"
    }
  },
  "cells": [
    {
      "cell_type": "markdown",
      "source": [
        "Q1:\n",
        " Create a List L that is defined as= [10, 20, 30, 40, 50, 60, 70, 80].\n",
        "i. WAP to add 200 and 300 to L.\n",
        "ii. WAP to remove 10 and 30 from L.\n",
        "iii. WAP to sort L in ascending order.\n",
        "iv. WAP to sort L in descending order."
      ],
      "metadata": {
        "id": "CxXAmQamxAHa"
      }
    },
    {
      "cell_type": "code",
      "execution_count": null,
      "metadata": {
        "id": "Z_T3wXs7Rq7g",
        "colab": {
          "base_uri": "https://localhost:8080/"
        },
        "outputId": "b0ae29d7-debe-4e85-a458-241dbf8f0c0d"
      },
      "outputs": [
        {
          "output_type": "stream",
          "name": "stdout",
          "text": [
            "After adding 200 and 300: [10, 20, 30, 40, 50, 60, 70, 80, 200, 300]\n",
            "After removing 10 and 30: [20, 40, 50, 60, 70, 80, 200, 300]\n",
            "List sorted in ascending order: [20, 40, 50, 60, 70, 80, 200, 300]\n",
            "List sorted in descending order: [300, 200, 80, 70, 60, 50, 40, 20]\n"
          ]
        }
      ],
      "source": [
        "L = [10, 20, 30, 40, 50, 60, 70, 80]\n",
        "L.append(200)\n",
        "L.append(300)\n",
        "print(\"After adding 200 and 300:\", L)\n",
        "L.remove(10)\n",
        "L.remove(30)\n",
        "print(\"After removing 10 and 30:\", L)\n",
        "L.sort()\n",
        "print(\"List sorted in ascending order:\", L)\n",
        "L.sort(reverse=True)\n",
        "print(\"List sorted in descending order:\", L)"
      ]
    },
    {
      "cell_type": "markdown",
      "source": [
        "Q2. Create a tuple of marks scored as scores = (45, 89.5, 76, 45.4, 89, 92, 58, 45) and\n",
        "perform the following operations using tuple functions:\n",
        "i. Identify the highest score and its index in the tuple.\n",
        "ii. Find the lowest score and count how many times it appears.\n",
        "iii. Reverse the tuple and return it as a list.\n",
        "iv. Check if a specific score ‘76’ (input by the user) is present in the tuple and\n",
        "print its first occurrence index, or a message saying it’s not present."
      ],
      "metadata": {
        "id": "9BovIG7uxG7x"
      }
    },
    {
      "cell_type": "code",
      "source": [
        "scores = (45, 89.5, 76, 45.4, 89, 92, 58, 45)\n",
        "maxx = max(scores)\n",
        "print(maxx)\n",
        "\n",
        "scores_list = list(scores)\n",
        "print(scores_list.index(maxx))\n",
        "\n",
        "minn = min(scores)\n",
        "print(minn)\n",
        "countt = scores.count(minn)\n",
        "print(countt)\n",
        "\n",
        "rev_scores = list(scores)\n",
        "rev_scores.sort(reverse=True)\n",
        "print(rev_scores)"
      ],
      "metadata": {
        "colab": {
          "base_uri": "https://localhost:8080/"
        },
        "id": "hB5rCSBKcUty",
        "outputId": "62955b00-d7f9-4691-fbe8-a24529d0a779"
      },
      "execution_count": null,
      "outputs": [
        {
          "output_type": "stream",
          "name": "stdout",
          "text": [
            "92\n",
            "5\n",
            "45\n",
            "2\n",
            "[92, 89.5, 89, 76, 58, 45.4, 45, 45]\n"
          ]
        }
      ]
    },
    {
      "cell_type": "markdown",
      "source": [
        "Q3:WAP to create a list of 100 random numbers between 100 and 900. Count and print\n",
        "the:\n",
        "i. All odd numbers\n",
        "ii. All even numbers\n",
        "iii. All prime numbers"
      ],
      "metadata": {
        "id": "6HgYaJ06xLg5"
      }
    },
    {
      "cell_type": "code",
      "source": [
        "import random\n",
        "Listt=[random.randint(100,900)for i in range(100)]\n",
        "even_list=[]\n",
        "odd_list=[]\n",
        "prime_list=[]\n",
        "for i in Listt:\n",
        "    if i%2==0:\n",
        "        even_list.append(i)\n",
        "    else:\n",
        "        odd_list.append(i)\n",
        "    if i>1:\n",
        "        for j in range(2,i):\n",
        "            if i%j==0:\n",
        "                break\n",
        "        else:\n",
        "            prime_list.append(i)\n",
        "print(\"Even elements in list\",len(even_list))\n",
        "print(\"Odd elements in list\",len(odd_list))\n",
        "print(\"Prime elements in list\",len(prime_list))\n",
        "print(\"sum of all even numbers in List\",sum(even_list))\n",
        "print(\"sum of all odd numbers in List\",sum(odd_list))\n",
        "print(\"sum of all prime numbers in list\",sum(prime_list))"
      ],
      "metadata": {
        "colab": {
          "base_uri": "https://localhost:8080/"
        },
        "id": "scuYbYeNecLq",
        "outputId": "19ed6634-0284-42ab-abc1-b614226d1e6d"
      },
      "execution_count": null,
      "outputs": [
        {
          "output_type": "stream",
          "name": "stdout",
          "text": [
            "Even elements in list 43\n",
            "Odd elements in list 57\n",
            "Prime elements in list 25\n",
            "sum of all even numbers in List 20800\n",
            "sum of all odd numbers in List 27347\n",
            "sum of all prime numbers in list 11419\n"
          ]
        }
      ]
    },
    {
      "cell_type": "markdown",
      "source": [
        "Q4:Consider the following two sets, A and B, represenƟng scores of two teams in mulƟple\n",
        "matches. A = {34, 56, 78, 90} and B = {78, 45, 90, 23}\n",
        "WAP to perform the following operaƟons using set funcƟons:\n",
        "i. Find the unique scores achieved by both teams (union of sets).\n",
        "ii. IdenƟfy the scores that are common to both teams (intersecƟon of sets).\n",
        "iii. Find the scores that are exclusive to each team (symmetric difference).\n",
        "iv. Check if the scores of team A are a subset of team B, and if team B's scores are\n",
        "a superset of team A.\n",
        "v. Remove a specific score X (input by the user) from set A if it exists. If not, print\n",
        "a message saying it is not present."
      ],
      "metadata": {
        "id": "Xv728QjtxQEQ"
      }
    },
    {
      "cell_type": "code",
      "source": [
        "A = {34, 56, 78, 90}\n",
        "B = {78, 45, 90, 23}\n",
        "print(A.union(B))\n",
        "print(A.intersection(B))\n",
        "print(\"Unique values in A\",A.difference(B))\n",
        "print(\"Unique values in B\",B.difference(A))\n",
        "print(A.issubset(B))\n",
        "print(B.issuperset(A))\n",
        "x=int(input(\"Enter the no. to remove:\"))\n",
        "if x in A:\n",
        "    A.remove(x)\n",
        "    print(A)\n",
        "else:\n",
        "    print(\"No such element\")"
      ],
      "metadata": {
        "colab": {
          "base_uri": "https://localhost:8080/"
        },
        "id": "tRr_679tgTgJ",
        "outputId": "83e73ece-863d-4981-9a5a-2a7f6be1408d"
      },
      "execution_count": null,
      "outputs": [
        {
          "output_type": "stream",
          "name": "stdout",
          "text": [
            "{34, 45, 78, 23, 56, 90}\n",
            "{90, 78}\n",
            "Unique values in A {56, 34}\n",
            "Unique values in B {45, 23}\n",
            "False\n",
            "False\n",
            "Enter the no. to remove:34\n",
            "{56, 90, 78}\n"
          ]
        }
      ]
    },
    {
      "cell_type": "markdown",
      "source": [
        "Q5. Write a program to rename a key city to a locaƟon in the following dicƟonary."
      ],
      "metadata": {
        "id": "MdVek-IYxQdJ"
      }
    },
    {
      "cell_type": "code",
      "source": [
        "sample_dict = {\n",
        "    \"name\": \"Kelly\",\n",
        "    \"age\": 25,\n",
        "    \"salary\": 8000,\n",
        "    \"city\": \"New york\"\n",
        "}\n",
        "\n",
        "sample_dict[\"location\"] = sample_dict.pop(\"city\")\n",
        "print(sample_dict)"
      ],
      "metadata": {
        "colab": {
          "base_uri": "https://localhost:8080/"
        },
        "id": "TZFZz8u8ASMg",
        "outputId": "60f13278-7490-46c5-ce8f-ee7aabc4b365"
      },
      "execution_count": null,
      "outputs": [
        {
          "output_type": "stream",
          "name": "stdout",
          "text": [
            "{'name': 'Kelly', 'age': 25, 'salary': 8000, 'location': 'New york'}\n"
          ]
        }
      ]
    },
    {
      "cell_type": "code",
      "source": [],
      "metadata": {
        "id": "P1I7Uo1NBTQH"
      },
      "execution_count": null,
      "outputs": []
    }
  ]
}